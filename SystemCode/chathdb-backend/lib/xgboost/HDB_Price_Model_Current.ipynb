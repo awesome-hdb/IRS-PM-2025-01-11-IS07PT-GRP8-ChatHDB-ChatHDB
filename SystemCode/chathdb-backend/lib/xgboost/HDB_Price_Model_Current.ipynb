{
  "nbformat": 4,
  "nbformat_minor": 0,
  "metadata": {
    "colab": {
      "provenance": []
    },
    "kernelspec": {
      "name": "python3",
      "display_name": "Python 3"
    },
    "language_info": {
      "name": "python"
    }
  },
  "cells": [
    {
      "cell_type": "markdown",
      "source": [
        "# Main Preprocessing"
      ],
      "metadata": {
        "id": "coEsfMBV-os2"
      }
    },
    {
      "cell_type": "markdown",
      "source": [
        "# New Section"
      ],
      "metadata": {
        "id": "Q5gch1Kuxk1t"
      }
    },
    {
      "cell_type": "code",
      "source": [
        "#Only use this when we want to do Optuna analysis\n",
        "'''\n",
        "#Bayesian Optimiser using Optuna Library for XGBoost\n",
        "!pip install optuna\n",
        "'''"
      ],
      "metadata": {
        "colab": {
          "base_uri": "https://localhost:8080/",
          "height": 35
        },
        "id": "vWBHVdeN_Gm6",
        "outputId": "13b7390b-d620-42c6-ea16-a6f39462054e"
      },
      "execution_count": 2,
      "outputs": [
        {
          "output_type": "execute_result",
          "data": {
            "text/plain": [
              "'\\n#Bayesian Optimiser using Optuna Library for XGBoost\\n!pip install optuna\\n'"
            ],
            "application/vnd.google.colaboratory.intrinsic+json": {
              "type": "string"
            }
          },
          "metadata": {},
          "execution_count": 2
        }
      ]
    },
    {
      "cell_type": "code",
      "execution_count": 3,
      "metadata": {
        "id": "6AnSbHkllT4-"
      },
      "outputs": [],
      "source": [
        "# This is extracting data from the csv\n",
        "\n",
        "import pandas as pd\n",
        "import numpy as np\n",
        "from sklearn.preprocessing import OneHotEncoder, StandardScaler\n",
        "from sklearn.model_selection import train_test_split\n",
        "from sklearn.metrics import mean_absolute_error, mean_squared_error, r2_score\n",
        "\n",
        "# Load dataset\n",
        "df = pd.read_parquet(\"conso_data.parquet\")\n",
        "df_future = pd.read_parquet(\"conso_data.parquet\")\n",
        "\n",
        "# 1. Handle missing values (Fill or Drop)\n",
        "df.dropna(inplace=True)  # Remove missing values for simplicity\n",
        "df_future.dropna(inplace=True)  # Remove missing values for simplicity"
      ]
    },
    {
      "cell_type": "markdown",
      "source": [
        "# Current Pricing"
      ],
      "metadata": {
        "id": "ZQ6Z_GOL91DJ"
      }
    },
    {
      "cell_type": "code",
      "source": [
        "# 2. Convert 'month' to numerical features (Extract year & month)\n",
        "df['year'] = df['month'].apply(lambda x: int(x.split(\"-\")[0]))\n",
        "df['month'] = df['month'].apply(lambda x: int(x.split(\"-\")[1]))\n",
        "\n",
        "'''\n",
        "Since the 1990 data doesn't have remaining_lease, and it's redundant with commencement date, I'm taking it off\n",
        "# 3. Convert 'remaining_lease' to numerical years\n",
        "df['remaining_lease'] = df['remaining_lease'].str.extract('(\\d+)').astype(float)\n",
        "'''\n",
        "\n",
        "# 4. Convert 'storey_range' to approximate floor level (take the median)\n",
        "def storey_to_category(storey_range):\n",
        "    ranges = storey_range.split(\" TO \")\n",
        "    median = (int(ranges[0]) + int(ranges[1])) / 2 if len(ranges) == 2 else int(ranges[0])\n",
        "\n",
        "    if median <= 6:\n",
        "        return 1\n",
        "    elif 7 <= median <= 12:\n",
        "        return 2\n",
        "    else:\n",
        "        return 3\n",
        "\n",
        "df['storey_median'] = df['storey_range'].apply(storey_to_category)\n",
        "\n",
        "# 5. Calculate the age of the flat\n",
        "df['flat_age'] = df['year'] - df['lease_commence_date']\n",
        "\n",
        "# 6. One-hot encoding for categorical features\n",
        "categorical_features = ['street_name', 'flat_type']\n",
        "df = pd.get_dummies(df, columns=categorical_features, drop_first=True)\n",
        "\n",
        "# 7. Drop unnecessary columns\n",
        "df.drop(['block', 'town', 'storey_range', 'remaining_lease','flat_model'], axis=1, inplace=True)\n",
        "\n",
        "# 8. I want to print the data so far\n",
        "df.head()"
      ],
      "metadata": {
        "id": "WkDfTzf9KUx2",
        "colab": {
          "base_uri": "https://localhost:8080/",
          "height": 273
        },
        "outputId": "052db27d-00c3-4a9a-94ea-dce865da71d3"
      },
      "execution_count": 4,
      "outputs": [
        {
          "output_type": "execute_result",
          "data": {
            "text/plain": [
              "   month  floor_area_sqm  lease_commence_date  resale_price  year  \\\n",
              "0      1            31.0                 1977        9000.0  1990   \n",
              "1      1            31.0                 1977        6000.0  1990   \n",
              "2      1            31.0                 1977        8000.0  1990   \n",
              "3      1            31.0                 1977        6000.0  1990   \n",
              "4      1            73.0                 1976       47200.0  1990   \n",
              "\n",
              "   storey_median  flat_age  street_name_ADMIRALTY LINK  \\\n",
              "0              2        13                       False   \n",
              "1              1        13                       False   \n",
              "2              2        13                       False   \n",
              "3              2        13                       False   \n",
              "4              1        14                       False   \n",
              "\n",
              "   street_name_AH HOOD RD  street_name_ALEXANDRA RD  ...  \\\n",
              "0                   False                     False  ...   \n",
              "1                   False                     False  ...   \n",
              "2                   False                     False  ...   \n",
              "3                   False                     False  ...   \n",
              "4                   False                     False  ...   \n",
              "\n",
              "   street_name_YUNG PING RD  street_name_YUNG SHENG RD  street_name_ZION RD  \\\n",
              "0                     False                      False                False   \n",
              "1                     False                      False                False   \n",
              "2                     False                      False                False   \n",
              "3                     False                      False                False   \n",
              "4                     False                      False                False   \n",
              "\n",
              "   flat_type_2 ROOM  flat_type_3 ROOM  flat_type_4 ROOM  flat_type_5 ROOM  \\\n",
              "0             False             False             False             False   \n",
              "1             False             False             False             False   \n",
              "2             False             False             False             False   \n",
              "3             False             False             False             False   \n",
              "4             False              True             False             False   \n",
              "\n",
              "   flat_type_EXECUTIVE  flat_type_MULTI GENERATION  flat_type_MULTI-GENERATION  \n",
              "0                False                       False                       False  \n",
              "1                False                       False                       False  \n",
              "2                False                       False                       False  \n",
              "3                False                       False                       False  \n",
              "4                False                       False                       False  \n",
              "\n",
              "[5 rows x 602 columns]"
            ],
            "text/html": [
              "\n",
              "  <div id=\"df-87b7b436-b34c-4c2f-aa08-12e17ce3781e\" class=\"colab-df-container\">\n",
              "    <div>\n",
              "<style scoped>\n",
              "    .dataframe tbody tr th:only-of-type {\n",
              "        vertical-align: middle;\n",
              "    }\n",
              "\n",
              "    .dataframe tbody tr th {\n",
              "        vertical-align: top;\n",
              "    }\n",
              "\n",
              "    .dataframe thead th {\n",
              "        text-align: right;\n",
              "    }\n",
              "</style>\n",
              "<table border=\"1\" class=\"dataframe\">\n",
              "  <thead>\n",
              "    <tr style=\"text-align: right;\">\n",
              "      <th></th>\n",
              "      <th>month</th>\n",
              "      <th>floor_area_sqm</th>\n",
              "      <th>lease_commence_date</th>\n",
              "      <th>resale_price</th>\n",
              "      <th>year</th>\n",
              "      <th>storey_median</th>\n",
              "      <th>flat_age</th>\n",
              "      <th>street_name_ADMIRALTY LINK</th>\n",
              "      <th>street_name_AH HOOD RD</th>\n",
              "      <th>street_name_ALEXANDRA RD</th>\n",
              "      <th>...</th>\n",
              "      <th>street_name_YUNG PING RD</th>\n",
              "      <th>street_name_YUNG SHENG RD</th>\n",
              "      <th>street_name_ZION RD</th>\n",
              "      <th>flat_type_2 ROOM</th>\n",
              "      <th>flat_type_3 ROOM</th>\n",
              "      <th>flat_type_4 ROOM</th>\n",
              "      <th>flat_type_5 ROOM</th>\n",
              "      <th>flat_type_EXECUTIVE</th>\n",
              "      <th>flat_type_MULTI GENERATION</th>\n",
              "      <th>flat_type_MULTI-GENERATION</th>\n",
              "    </tr>\n",
              "  </thead>\n",
              "  <tbody>\n",
              "    <tr>\n",
              "      <th>0</th>\n",
              "      <td>1</td>\n",
              "      <td>31.0</td>\n",
              "      <td>1977</td>\n",
              "      <td>9000.0</td>\n",
              "      <td>1990</td>\n",
              "      <td>2</td>\n",
              "      <td>13</td>\n",
              "      <td>False</td>\n",
              "      <td>False</td>\n",
              "      <td>False</td>\n",
              "      <td>...</td>\n",
              "      <td>False</td>\n",
              "      <td>False</td>\n",
              "      <td>False</td>\n",
              "      <td>False</td>\n",
              "      <td>False</td>\n",
              "      <td>False</td>\n",
              "      <td>False</td>\n",
              "      <td>False</td>\n",
              "      <td>False</td>\n",
              "      <td>False</td>\n",
              "    </tr>\n",
              "    <tr>\n",
              "      <th>1</th>\n",
              "      <td>1</td>\n",
              "      <td>31.0</td>\n",
              "      <td>1977</td>\n",
              "      <td>6000.0</td>\n",
              "      <td>1990</td>\n",
              "      <td>1</td>\n",
              "      <td>13</td>\n",
              "      <td>False</td>\n",
              "      <td>False</td>\n",
              "      <td>False</td>\n",
              "      <td>...</td>\n",
              "      <td>False</td>\n",
              "      <td>False</td>\n",
              "      <td>False</td>\n",
              "      <td>False</td>\n",
              "      <td>False</td>\n",
              "      <td>False</td>\n",
              "      <td>False</td>\n",
              "      <td>False</td>\n",
              "      <td>False</td>\n",
              "      <td>False</td>\n",
              "    </tr>\n",
              "    <tr>\n",
              "      <th>2</th>\n",
              "      <td>1</td>\n",
              "      <td>31.0</td>\n",
              "      <td>1977</td>\n",
              "      <td>8000.0</td>\n",
              "      <td>1990</td>\n",
              "      <td>2</td>\n",
              "      <td>13</td>\n",
              "      <td>False</td>\n",
              "      <td>False</td>\n",
              "      <td>False</td>\n",
              "      <td>...</td>\n",
              "      <td>False</td>\n",
              "      <td>False</td>\n",
              "      <td>False</td>\n",
              "      <td>False</td>\n",
              "      <td>False</td>\n",
              "      <td>False</td>\n",
              "      <td>False</td>\n",
              "      <td>False</td>\n",
              "      <td>False</td>\n",
              "      <td>False</td>\n",
              "    </tr>\n",
              "    <tr>\n",
              "      <th>3</th>\n",
              "      <td>1</td>\n",
              "      <td>31.0</td>\n",
              "      <td>1977</td>\n",
              "      <td>6000.0</td>\n",
              "      <td>1990</td>\n",
              "      <td>2</td>\n",
              "      <td>13</td>\n",
              "      <td>False</td>\n",
              "      <td>False</td>\n",
              "      <td>False</td>\n",
              "      <td>...</td>\n",
              "      <td>False</td>\n",
              "      <td>False</td>\n",
              "      <td>False</td>\n",
              "      <td>False</td>\n",
              "      <td>False</td>\n",
              "      <td>False</td>\n",
              "      <td>False</td>\n",
              "      <td>False</td>\n",
              "      <td>False</td>\n",
              "      <td>False</td>\n",
              "    </tr>\n",
              "    <tr>\n",
              "      <th>4</th>\n",
              "      <td>1</td>\n",
              "      <td>73.0</td>\n",
              "      <td>1976</td>\n",
              "      <td>47200.0</td>\n",
              "      <td>1990</td>\n",
              "      <td>1</td>\n",
              "      <td>14</td>\n",
              "      <td>False</td>\n",
              "      <td>False</td>\n",
              "      <td>False</td>\n",
              "      <td>...</td>\n",
              "      <td>False</td>\n",
              "      <td>False</td>\n",
              "      <td>False</td>\n",
              "      <td>False</td>\n",
              "      <td>True</td>\n",
              "      <td>False</td>\n",
              "      <td>False</td>\n",
              "      <td>False</td>\n",
              "      <td>False</td>\n",
              "      <td>False</td>\n",
              "    </tr>\n",
              "  </tbody>\n",
              "</table>\n",
              "<p>5 rows × 602 columns</p>\n",
              "</div>\n",
              "    <div class=\"colab-df-buttons\">\n",
              "\n",
              "  <div class=\"colab-df-container\">\n",
              "    <button class=\"colab-df-convert\" onclick=\"convertToInteractive('df-87b7b436-b34c-4c2f-aa08-12e17ce3781e')\"\n",
              "            title=\"Convert this dataframe to an interactive table.\"\n",
              "            style=\"display:none;\">\n",
              "\n",
              "  <svg xmlns=\"http://www.w3.org/2000/svg\" height=\"24px\" viewBox=\"0 -960 960 960\">\n",
              "    <path d=\"M120-120v-720h720v720H120Zm60-500h600v-160H180v160Zm220 220h160v-160H400v160Zm0 220h160v-160H400v160ZM180-400h160v-160H180v160Zm440 0h160v-160H620v160ZM180-180h160v-160H180v160Zm440 0h160v-160H620v160Z\"/>\n",
              "  </svg>\n",
              "    </button>\n",
              "\n",
              "  <style>\n",
              "    .colab-df-container {\n",
              "      display:flex;\n",
              "      gap: 12px;\n",
              "    }\n",
              "\n",
              "    .colab-df-convert {\n",
              "      background-color: #E8F0FE;\n",
              "      border: none;\n",
              "      border-radius: 50%;\n",
              "      cursor: pointer;\n",
              "      display: none;\n",
              "      fill: #1967D2;\n",
              "      height: 32px;\n",
              "      padding: 0 0 0 0;\n",
              "      width: 32px;\n",
              "    }\n",
              "\n",
              "    .colab-df-convert:hover {\n",
              "      background-color: #E2EBFA;\n",
              "      box-shadow: 0px 1px 2px rgba(60, 64, 67, 0.3), 0px 1px 3px 1px rgba(60, 64, 67, 0.15);\n",
              "      fill: #174EA6;\n",
              "    }\n",
              "\n",
              "    .colab-df-buttons div {\n",
              "      margin-bottom: 4px;\n",
              "    }\n",
              "\n",
              "    [theme=dark] .colab-df-convert {\n",
              "      background-color: #3B4455;\n",
              "      fill: #D2E3FC;\n",
              "    }\n",
              "\n",
              "    [theme=dark] .colab-df-convert:hover {\n",
              "      background-color: #434B5C;\n",
              "      box-shadow: 0px 1px 3px 1px rgba(0, 0, 0, 0.15);\n",
              "      filter: drop-shadow(0px 1px 2px rgba(0, 0, 0, 0.3));\n",
              "      fill: #FFFFFF;\n",
              "    }\n",
              "  </style>\n",
              "\n",
              "    <script>\n",
              "      const buttonEl =\n",
              "        document.querySelector('#df-87b7b436-b34c-4c2f-aa08-12e17ce3781e button.colab-df-convert');\n",
              "      buttonEl.style.display =\n",
              "        google.colab.kernel.accessAllowed ? 'block' : 'none';\n",
              "\n",
              "      async function convertToInteractive(key) {\n",
              "        const element = document.querySelector('#df-87b7b436-b34c-4c2f-aa08-12e17ce3781e');\n",
              "        const dataTable =\n",
              "          await google.colab.kernel.invokeFunction('convertToInteractive',\n",
              "                                                    [key], {});\n",
              "        if (!dataTable) return;\n",
              "\n",
              "        const docLinkHtml = 'Like what you see? Visit the ' +\n",
              "          '<a target=\"_blank\" href=https://colab.research.google.com/notebooks/data_table.ipynb>data table notebook</a>'\n",
              "          + ' to learn more about interactive tables.';\n",
              "        element.innerHTML = '';\n",
              "        dataTable['output_type'] = 'display_data';\n",
              "        await google.colab.output.renderOutput(dataTable, element);\n",
              "        const docLink = document.createElement('div');\n",
              "        docLink.innerHTML = docLinkHtml;\n",
              "        element.appendChild(docLink);\n",
              "      }\n",
              "    </script>\n",
              "  </div>\n",
              "\n",
              "\n",
              "<div id=\"df-0c1bd1b5-0fff-41ff-a162-5a255d79d602\">\n",
              "  <button class=\"colab-df-quickchart\" onclick=\"quickchart('df-0c1bd1b5-0fff-41ff-a162-5a255d79d602')\"\n",
              "            title=\"Suggest charts\"\n",
              "            style=\"display:none;\">\n",
              "\n",
              "<svg xmlns=\"http://www.w3.org/2000/svg\" height=\"24px\"viewBox=\"0 0 24 24\"\n",
              "     width=\"24px\">\n",
              "    <g>\n",
              "        <path d=\"M19 3H5c-1.1 0-2 .9-2 2v14c0 1.1.9 2 2 2h14c1.1 0 2-.9 2-2V5c0-1.1-.9-2-2-2zM9 17H7v-7h2v7zm4 0h-2V7h2v10zm4 0h-2v-4h2v4z\"/>\n",
              "    </g>\n",
              "</svg>\n",
              "  </button>\n",
              "\n",
              "<style>\n",
              "  .colab-df-quickchart {\n",
              "      --bg-color: #E8F0FE;\n",
              "      --fill-color: #1967D2;\n",
              "      --hover-bg-color: #E2EBFA;\n",
              "      --hover-fill-color: #174EA6;\n",
              "      --disabled-fill-color: #AAA;\n",
              "      --disabled-bg-color: #DDD;\n",
              "  }\n",
              "\n",
              "  [theme=dark] .colab-df-quickchart {\n",
              "      --bg-color: #3B4455;\n",
              "      --fill-color: #D2E3FC;\n",
              "      --hover-bg-color: #434B5C;\n",
              "      --hover-fill-color: #FFFFFF;\n",
              "      --disabled-bg-color: #3B4455;\n",
              "      --disabled-fill-color: #666;\n",
              "  }\n",
              "\n",
              "  .colab-df-quickchart {\n",
              "    background-color: var(--bg-color);\n",
              "    border: none;\n",
              "    border-radius: 50%;\n",
              "    cursor: pointer;\n",
              "    display: none;\n",
              "    fill: var(--fill-color);\n",
              "    height: 32px;\n",
              "    padding: 0;\n",
              "    width: 32px;\n",
              "  }\n",
              "\n",
              "  .colab-df-quickchart:hover {\n",
              "    background-color: var(--hover-bg-color);\n",
              "    box-shadow: 0 1px 2px rgba(60, 64, 67, 0.3), 0 1px 3px 1px rgba(60, 64, 67, 0.15);\n",
              "    fill: var(--button-hover-fill-color);\n",
              "  }\n",
              "\n",
              "  .colab-df-quickchart-complete:disabled,\n",
              "  .colab-df-quickchart-complete:disabled:hover {\n",
              "    background-color: var(--disabled-bg-color);\n",
              "    fill: var(--disabled-fill-color);\n",
              "    box-shadow: none;\n",
              "  }\n",
              "\n",
              "  .colab-df-spinner {\n",
              "    border: 2px solid var(--fill-color);\n",
              "    border-color: transparent;\n",
              "    border-bottom-color: var(--fill-color);\n",
              "    animation:\n",
              "      spin 1s steps(1) infinite;\n",
              "  }\n",
              "\n",
              "  @keyframes spin {\n",
              "    0% {\n",
              "      border-color: transparent;\n",
              "      border-bottom-color: var(--fill-color);\n",
              "      border-left-color: var(--fill-color);\n",
              "    }\n",
              "    20% {\n",
              "      border-color: transparent;\n",
              "      border-left-color: var(--fill-color);\n",
              "      border-top-color: var(--fill-color);\n",
              "    }\n",
              "    30% {\n",
              "      border-color: transparent;\n",
              "      border-left-color: var(--fill-color);\n",
              "      border-top-color: var(--fill-color);\n",
              "      border-right-color: var(--fill-color);\n",
              "    }\n",
              "    40% {\n",
              "      border-color: transparent;\n",
              "      border-right-color: var(--fill-color);\n",
              "      border-top-color: var(--fill-color);\n",
              "    }\n",
              "    60% {\n",
              "      border-color: transparent;\n",
              "      border-right-color: var(--fill-color);\n",
              "    }\n",
              "    80% {\n",
              "      border-color: transparent;\n",
              "      border-right-color: var(--fill-color);\n",
              "      border-bottom-color: var(--fill-color);\n",
              "    }\n",
              "    90% {\n",
              "      border-color: transparent;\n",
              "      border-bottom-color: var(--fill-color);\n",
              "    }\n",
              "  }\n",
              "</style>\n",
              "\n",
              "  <script>\n",
              "    async function quickchart(key) {\n",
              "      const quickchartButtonEl =\n",
              "        document.querySelector('#' + key + ' button');\n",
              "      quickchartButtonEl.disabled = true;  // To prevent multiple clicks.\n",
              "      quickchartButtonEl.classList.add('colab-df-spinner');\n",
              "      try {\n",
              "        const charts = await google.colab.kernel.invokeFunction(\n",
              "            'suggestCharts', [key], {});\n",
              "      } catch (error) {\n",
              "        console.error('Error during call to suggestCharts:', error);\n",
              "      }\n",
              "      quickchartButtonEl.classList.remove('colab-df-spinner');\n",
              "      quickchartButtonEl.classList.add('colab-df-quickchart-complete');\n",
              "    }\n",
              "    (() => {\n",
              "      let quickchartButtonEl =\n",
              "        document.querySelector('#df-0c1bd1b5-0fff-41ff-a162-5a255d79d602 button');\n",
              "      quickchartButtonEl.style.display =\n",
              "        google.colab.kernel.accessAllowed ? 'block' : 'none';\n",
              "    })();\n",
              "  </script>\n",
              "</div>\n",
              "\n",
              "    </div>\n",
              "  </div>\n"
            ],
            "application/vnd.google.colaboratory.intrinsic+json": {
              "type": "dataframe",
              "variable_name": "df"
            }
          },
          "metadata": {},
          "execution_count": 4
        }
      ]
    },
    {
      "cell_type": "code",
      "source": [
        "X_test_head = df.head(10)  # Select first 10 rows\n",
        "X_test_head.to_csv(\"X_test_head.csv\", index=False)  # Save to CSV\n",
        "print(\"CSV file 'X_test_head.csv' created with the first 10 rows of X_test.\")"
      ],
      "metadata": {
        "colab": {
          "base_uri": "https://localhost:8080/"
        },
        "id": "uJP0opxy_-Pg",
        "outputId": "d6af44f9-f11e-4d0c-debb-288df0e04061"
      },
      "execution_count": 5,
      "outputs": [
        {
          "output_type": "stream",
          "name": "stdout",
          "text": [
            "CSV file 'X_test_head.csv' created with the first 10 rows of X_test.\n"
          ]
        }
      ]
    },
    {
      "cell_type": "code",
      "source": [
        "# This is data processing & split preparation\n",
        "\n",
        "# 1. Feature Scaling (Normalize numerical data)\n",
        "numerical_features = ['floor_area_sqm', 'storey_median', 'flat_age']\n",
        "scaler = StandardScaler()\n",
        "df[numerical_features] = scaler.fit_transform(df[numerical_features])\n",
        "\n",
        "# 2. Train-test split\n",
        "X = df.drop(columns=['resale_price']) #added storey_median here so we can test how it performs without that\n",
        "y = df['resale_price']\n",
        "X_train, X_test, y_train, y_test = train_test_split(X, y, test_size=0.2, random_state=42)\n",
        "\n",
        "print(\"Preprocessing complete. Data saved.\")"
      ],
      "metadata": {
        "colab": {
          "base_uri": "https://localhost:8080/"
        },
        "id": "2V0cDLxVomBY",
        "outputId": "fcd66b4a-a471-44bb-e979-0c3fc92d2d40"
      },
      "execution_count": 6,
      "outputs": [
        {
          "output_type": "stream",
          "name": "stdout",
          "text": [
            "Preprocessing complete. Data saved.\n"
          ]
        }
      ]
    },
    {
      "cell_type": "code",
      "source": [
        "# Save the scaler\n",
        "import pickle\n",
        "with open('scaler.pkl', 'wb') as file:  # Open a file in write binary mode ('wb')\n",
        "    pickle.dump(scaler, file)         # Dump the scaler object into the file"
      ],
      "metadata": {
        "id": "B4a3TRjAYohn"
      },
      "execution_count": 7,
      "outputs": []
    },
    {
      "cell_type": "code",
      "source": [
        "#This is linear regression function, just for baseline comparisonn\n",
        "\n",
        "import pandas as pd\n",
        "import numpy as np\n",
        "import matplotlib.pyplot as plt\n",
        "from sklearn.linear_model import LinearRegression\n",
        "\n",
        "\n",
        "# Initialize and train Linear Regression model\n",
        "model = LinearRegression()\n",
        "model.fit(X_train, y_train)\n",
        "\n",
        "# Predict on test data\n",
        "y_pred = model.predict(X_test)\n",
        "\n",
        "# Evaluate the model\n",
        "mae = mean_absolute_error(y_test, y_pred)\n",
        "rmse = np.sqrt(mean_squared_error(y_test, y_pred))\n",
        "r2 = r2_score(y_test, y_pred)\n",
        "\n",
        "# Print performance metrics\n",
        "print(f\"MAE: {mae:.2f}\")\n",
        "print(f\"RMSE: {rmse:.2f}\")\n",
        "print(f\"R² Score: {r2:.4f}\")\n"
      ],
      "metadata": {
        "id": "CaYmNoB8qTAm",
        "colab": {
          "base_uri": "https://localhost:8080/"
        },
        "outputId": "9d42486a-1e11-4256-a251-a4c95831a3e6"
      },
      "execution_count": 8,
      "outputs": [
        {
          "output_type": "stream",
          "name": "stdout",
          "text": [
            "MAE: 50239.14\n",
            "RMSE: 66134.67\n",
            "R² Score: 0.8604\n"
          ]
        }
      ]
    },
    {
      "cell_type": "code",
      "source": [
        "'''\n",
        "\n",
        "Bunch of remarks\n",
        "One day we can check about plotting but lazy\n",
        "MOP has no impact\n",
        "\n",
        "'''"
      ],
      "metadata": {
        "id": "JMFjBQcQJM0N",
        "colab": {
          "base_uri": "https://localhost:8080/",
          "height": 35
        },
        "outputId": "eeb38c4d-6ccd-4001-ca88-64fab6944e73"
      },
      "execution_count": 9,
      "outputs": [
        {
          "output_type": "execute_result",
          "data": {
            "text/plain": [
              "'\\n\\nBunch of remarks\\nOne day we can check about plotting but lazy\\nMOP has no impact\\n\\n'"
            ],
            "application/vnd.google.colaboratory.intrinsic+json": {
              "type": "string"
            }
          },
          "metadata": {},
          "execution_count": 9
        }
      ]
    },
    {
      "cell_type": "code",
      "source": [
        "#here we are testing the model against other methodology such as RF or XGB\n",
        "#This and the other method don't need to be run again, only the one after Optuna optimisation is to be used\n",
        "'''\n",
        "from xgboost import XGBRegressor\n",
        "\n",
        "\n",
        "# Train XGBoost\n",
        "xgb_model = XGBRegressor(n_estimators=100, learning_rate=0.1, random_state=42)\n",
        "xgb_model.fit(X_train, y_train.values.ravel())\n",
        "xgb_pred = xgb_model.predict(X_test)\n",
        "\n",
        "# Evaluate both models\n",
        "def evaluate_model(y_true, y_pred, model_name):\n",
        "    mae = mean_absolute_error(y_true, y_pred)\n",
        "    rmse = np.sqrt(mean_squared_error(y_true, y_pred))\n",
        "    r2 = r2_score(y_true, y_pred)\n",
        "    print(f\"{model_name} - MAE: {mae:.2f}, RMSE: {rmse:.2f}, R²: {r2:.4f}\")\n",
        "\n",
        "evaluate_model(y_test, xgb_pred, \"XGBoost\")\n",
        "#XGBoost (100,0.1) - MAE: 52427.64, RMSE: 69806.95, R²: 0.8464\n",
        "'''"
      ],
      "metadata": {
        "id": "SbfvWO0UrjHG",
        "colab": {
          "base_uri": "https://localhost:8080/"
        },
        "outputId": "2ac2cbfd-7f3b-43db-f0d8-0dca20cfd6fc"
      },
      "execution_count": 10,
      "outputs": [
        {
          "output_type": "stream",
          "name": "stdout",
          "text": [
            "XGBoost - MAE: 33760.34, RMSE: 49131.32, R²: 0.9229\n"
          ]
        }
      ]
    },
    {
      "cell_type": "code",
      "source": [
        "'''\n",
        "# Train Random Forest\n",
        "\n",
        "#Random Forest cannot be pickled, it always extend to like close to 1gb file\n",
        "from sklearn.ensemble import RandomForestRegressor\n",
        "rf_model = RandomForestRegressor(n_estimators=50, max_depth =5, random_state=42)\n",
        "rf_model.fit(X_train, y_train.values.ravel())  # .ravel() ensures proper shape\n",
        "rf_pred = rf_model.predict(X_test)\n",
        "\n",
        "evaluate_model(y_test, rf_pred, \"Random Forest\")\n",
        "\n",
        "#Random Forest (50,5) - MAE: 76993.27, RMSE: 107547.88, R²: 0.6353, doesn't seem like we can reduce the depth, so this is stuck because of pickling size issue\n",
        "'''"
      ],
      "metadata": {
        "colab": {
          "base_uri": "https://localhost:8080/",
          "height": 87
        },
        "id": "wDuR1hRcAAyM",
        "outputId": "dd534b56-97bd-4784-d5f7-45df44b3480e"
      },
      "execution_count": 11,
      "outputs": [
        {
          "output_type": "execute_result",
          "data": {
            "text/plain": [
              "'\\n# Train Random Forest\\n\\n#Random Forest cannot be pickled, it always extend to like close to 1gb file\\nfrom sklearn.ensemble import RandomForestRegressor\\nrf_model = RandomForestRegressor(n_estimators=50, max_depth =5, random_state=42)\\nrf_model.fit(X_train, y_train.values.ravel())  # .ravel() ensures proper shape\\nrf_pred = rf_model.predict(X_test)\\n\\nevaluate_model(y_test, rf_pred, \"Random Forest\")\\n\\n#Random Forest (50,5) - MAE: 76993.27, RMSE: 107547.88, R²: 0.6353, doesn\\'t seem like we can reduce the depth, so this is stuck because of pickling size issue\\n'"
            ],
            "application/vnd.google.colaboratory.intrinsic+json": {
              "type": "string"
            }
          },
          "metadata": {},
          "execution_count": 11
        }
      ]
    },
    {
      "cell_type": "code",
      "source": [
        "'''\n",
        "#Train using Neural Network\n",
        "from sklearn.neural_network import MLPRegressor\n",
        "from sklearn.metrics import mean_absolute_error\n",
        "\n",
        "# Assuming X_train, y_train, X_test, y_test are already defined as Pandas DataFrames\n",
        "\n",
        "# Create and train the neural network model\n",
        "nn_model = MLPRegressor(hidden_layer_sizes=(5, 2), activation='relu', solver='adam', random_state=42,batch_size=5000, learning_rate_init=1)\n",
        "nn_model.fit(X_train, y_train.values.ravel()) # ravel() is used to flatten y_train if needed\n",
        "\n",
        "# Make predictions\n",
        "y_pred = nn_model.predict(X_test)\n",
        "\n",
        "# Evaluate the model\n",
        "evaluate_model(y_test, y_pred, \"Neural Network\")\n",
        "\n",
        "#Neural Network - MAE: 76051.18, RMSE: 99628.21, R²: 0.6871 run around 3 mins\n",
        "'''"
      ],
      "metadata": {
        "colab": {
          "base_uri": "https://localhost:8080/",
          "height": 105
        },
        "id": "-mcqqXjh8b-A",
        "outputId": "41449cd7-8414-43ad-81b0-5fef0ff84fd7"
      },
      "execution_count": 12,
      "outputs": [
        {
          "output_type": "execute_result",
          "data": {
            "text/plain": [
              "'\\n#Train using Neural Network\\nfrom sklearn.neural_network import MLPRegressor\\nfrom sklearn.metrics import mean_absolute_error\\n\\n# Assuming X_train, y_train, X_test, y_test are already defined as Pandas DataFrames\\n\\n# Create and train the neural network model\\nnn_model = MLPRegressor(hidden_layer_sizes=(5, 2), activation=\\'relu\\', solver=\\'adam\\', random_state=42,batch_size=5000, learning_rate_init=1)\\nnn_model.fit(X_train, y_train.values.ravel()) # ravel() is used to flatten y_train if needed\\n\\n# Make predictions\\ny_pred = nn_model.predict(X_test)\\n\\n# Evaluate the model\\nevaluate_model(y_test, y_pred, \"Neural Network\")\\n\\n#Neural Network - MAE: 76051.18, RMSE: 99628.21, R²: 0.6871 run around 3 mins\\n'"
            ],
            "application/vnd.google.colaboratory.intrinsic+json": {
              "type": "string"
            }
          },
          "metadata": {},
          "execution_count": 12
        }
      ]
    },
    {
      "cell_type": "code",
      "source": [
        "#DO NOT RUN THIS CELL IT TAKES LIKE 90 MINS TO TEST ALL COMBINATION\n",
        "'''\n",
        "import optuna\n",
        "\n",
        "def objective(trial):\n",
        "    params = {\n",
        "        'max_depth': trial.suggest_int('max_depth', 3, 10),\n",
        "        'learning_rate': trial.suggest_loguniform('learning_rate', 0.01, 0.3),\n",
        "        'n_estimators': trial.suggest_int('n_estimators', 100, 500),\n",
        "        'min_child_weight': trial.suggest_int('min_child_weight', 1, 10),\n",
        "        'subsample': trial.suggest_uniform('subsample', 0.5, 1),\n",
        "        'colsample_bytree': trial.suggest_uniform('colsample_bytree', 0.3, 1),\n",
        "        'gamma': trial.suggest_loguniform('gamma', 0.01, 10),\n",
        "        'reg_alpha': trial.suggest_loguniform('reg_alpha', 0.01, 1),\n",
        "        'reg_lambda': trial.suggest_loguniform('reg_lambda', 1, 10)\n",
        "    }\n",
        "\n",
        "    xgb_model_tuned = XGBRegressor(**params, objective=\"reg:squarederror\", random_state=42)\n",
        "    xgb_model_tuned.fit(X_train, y_train)\n",
        "    y_pred = xgb_model_tuned.predict(X_test)\n",
        "    return mean_squared_error(y_test, y_pred)\n",
        "\n",
        "study = optuna.create_study(direction='minimize')\n",
        "study.optimize(objective, n_trials=50)\n",
        "\n",
        "#Parameters printing\n",
        "print(\"Best parameters:\", study.best_trial.params)\n",
        "'''\n",
        "\n",
        "#{'max_depth': 8, 'learning_rate': 0.29816288181757516, 'n_estimators': 463, 'min_child_weight': 8, 'subsample': 0.7784837367009123, 'colsample_bytree': 0.7366592236791326, 'gamma': 0.03016833782462212, 'reg_alpha': 0.911873200628761, 'reg_lambda': 2.8733206177988944}"
      ],
      "metadata": {
        "colab": {
          "base_uri": "https://localhost:8080/",
          "height": 139
        },
        "collapsed": true,
        "id": "jBITDKyz8bPB",
        "outputId": "f15ee68e-c55a-454a-e6e1-35df7130c89f"
      },
      "execution_count": 13,
      "outputs": [
        {
          "output_type": "execute_result",
          "data": {
            "text/plain": [
              "'\\nimport optuna\\n\\ndef objective(trial):\\n    params = {\\n        \\'max_depth\\': trial.suggest_int(\\'max_depth\\', 3, 10),\\n        \\'learning_rate\\': trial.suggest_loguniform(\\'learning_rate\\', 0.01, 0.3),\\n        \\'n_estimators\\': trial.suggest_int(\\'n_estimators\\', 100, 500),\\n        \\'min_child_weight\\': trial.suggest_int(\\'min_child_weight\\', 1, 10),\\n        \\'subsample\\': trial.suggest_uniform(\\'subsample\\', 0.5, 1),\\n        \\'colsample_bytree\\': trial.suggest_uniform(\\'colsample_bytree\\', 0.3, 1),\\n        \\'gamma\\': trial.suggest_loguniform(\\'gamma\\', 0.01, 10),\\n        \\'reg_alpha\\': trial.suggest_loguniform(\\'reg_alpha\\', 0.01, 1),\\n        \\'reg_lambda\\': trial.suggest_loguniform(\\'reg_lambda\\', 1, 10)\\n    }\\n\\n    xgb_model_tuned = XGBRegressor(**params, objective=\"reg:squarederror\", random_state=42)\\n    xgb_model_tuned.fit(X_train, y_train)\\n    y_pred = xgb_model_tuned.predict(X_test)\\n    return mean_squared_error(y_test, y_pred)\\n\\nstudy = optuna.create_study(direction=\\'minimize\\')\\nstudy.optimize(objective, n_trials=50)\\n\\n#Parameters printing\\nprint(\"Best parameters:\", study.best_trial.params)\\n'"
            ],
            "application/vnd.google.colaboratory.intrinsic+json": {
              "type": "string"
            }
          },
          "metadata": {},
          "execution_count": 13
        }
      ]
    },
    {
      "cell_type": "code",
      "source": [
        "#Evaluation\n",
        "\n",
        "#Copy the value from Optuna above\n",
        "\n",
        "final_model = XGBRegressor(max_depth=8, learning_rate=0.29816288181757516, n_estimators=463, min_child_weight=8, subsample=0.7784837367009123, colsample_bytree=0.7366592236791326, gamma=0.03016833782462212, reg_alpha=0.911873200628761, reg_lambda=2.8733206177988944)\n",
        "final_model.fit(X_train, y_train)\n",
        "\n",
        "y_pred = final_model.predict(X_test)\n",
        "print(f\"Final MSE: {mean_squared_error(y_test, y_pred)}\")\n",
        "print(f\"Final R2: {r2_score(y_test, y_pred)}\")\n"
      ],
      "metadata": {
        "colab": {
          "base_uri": "https://localhost:8080/"
        },
        "id": "RNgPhiXg8dOJ",
        "outputId": "4e89b0c5-4a80-45a2-b4b1-3a6f9f4ddeea"
      },
      "execution_count": 14,
      "outputs": [
        {
          "output_type": "stream",
          "name": "stdout",
          "text": [
            "Final MSE: 549141376.0\n",
            "Final R2: 0.9824708104133606\n"
          ]
        }
      ]
    },
    {
      "cell_type": "code",
      "source": [
        "#choose the winner and pickle it\n",
        "import pickle\n",
        "\n",
        "output = open('final_model.pkl', 'wb')\n",
        "pickle.dump(final_model, output)\n",
        "output.close()"
      ],
      "metadata": {
        "id": "Jf3lPAHp9mIM"
      },
      "execution_count": 15,
      "outputs": []
    },
    {
      "cell_type": "markdown",
      "source": [
        "# Testing and Others"
      ],
      "metadata": {
        "id": "jT6YbuaB-IOR"
      }
    },
    {
      "cell_type": "code",
      "source": [
        "#This is for sanity testing, upload the file before running this to avoid error\n",
        "'''\n",
        "import pandas as pd\n",
        "import pickle\n",
        "\n",
        "# 1. Load the scaler and model\n",
        "with open('scaler.pkl', 'rb') as file:\n",
        "    scaler = pickle.load(file)\n",
        "with open('final_model.pkl', 'rb') as file:\n",
        "    model = pickle.load(file)\n",
        "\n",
        "# 2. Read X_single_test_data from CSV\n",
        "X_single_test = pd.read_csv(\"X_single_test_data.csv\")  # Replace with your CSV filename\n",
        "\n",
        "# 3. Select numerical features for scaling\n",
        "numerical_features = ['floor_area_sqm', 'storey_median', 'flat_age']\n",
        "\n",
        "# 4. Scale the numerical features\n",
        "X_single_test[numerical_features] = scaler.transform(X_single_test[numerical_features])\n",
        "\n",
        "# 5. Make prediction\n",
        "predicted_price = model.predict(X_single_test)\n",
        "print(f\"Predicted Price: {predicted_price}\")\n",
        "'''"
      ],
      "metadata": {
        "id": "pFeAuGObSm50",
        "colab": {
          "base_uri": "https://localhost:8080/",
          "height": 373
        },
        "outputId": "c823ac0d-46fd-4724-af61-7fa320af71a4"
      },
      "execution_count": 16,
      "outputs": [
        {
          "output_type": "error",
          "ename": "FileNotFoundError",
          "evalue": "[Errno 2] No such file or directory: 'X_single_test_data.csv'",
          "traceback": [
            "\u001b[0;31m---------------------------------------------------------------------------\u001b[0m",
            "\u001b[0;31mFileNotFoundError\u001b[0m                         Traceback (most recent call last)",
            "\u001b[0;32m<ipython-input-16-206e3aee5156>\u001b[0m in \u001b[0;36m<cell line: 0>\u001b[0;34m()\u001b[0m\n\u001b[1;32m      9\u001b[0m \u001b[0;34m\u001b[0m\u001b[0m\n\u001b[1;32m     10\u001b[0m \u001b[0;31m# 2. Read X_single_test_data from CSV\u001b[0m\u001b[0;34m\u001b[0m\u001b[0;34m\u001b[0m\u001b[0m\n\u001b[0;32m---> 11\u001b[0;31m \u001b[0mX_single_test\u001b[0m \u001b[0;34m=\u001b[0m \u001b[0mpd\u001b[0m\u001b[0;34m.\u001b[0m\u001b[0mread_csv\u001b[0m\u001b[0;34m(\u001b[0m\u001b[0;34m\"X_single_test_data.csv\"\u001b[0m\u001b[0;34m)\u001b[0m  \u001b[0;31m# Replace with your CSV filename\u001b[0m\u001b[0;34m\u001b[0m\u001b[0;34m\u001b[0m\u001b[0m\n\u001b[0m\u001b[1;32m     12\u001b[0m \u001b[0;34m\u001b[0m\u001b[0m\n\u001b[1;32m     13\u001b[0m \u001b[0;31m# 3. Select numerical features for scaling\u001b[0m\u001b[0;34m\u001b[0m\u001b[0;34m\u001b[0m\u001b[0m\n",
            "\u001b[0;32m/usr/local/lib/python3.11/dist-packages/pandas/io/parsers/readers.py\u001b[0m in \u001b[0;36mread_csv\u001b[0;34m(filepath_or_buffer, sep, delimiter, header, names, index_col, usecols, dtype, engine, converters, true_values, false_values, skipinitialspace, skiprows, skipfooter, nrows, na_values, keep_default_na, na_filter, verbose, skip_blank_lines, parse_dates, infer_datetime_format, keep_date_col, date_parser, date_format, dayfirst, cache_dates, iterator, chunksize, compression, thousands, decimal, lineterminator, quotechar, quoting, doublequote, escapechar, comment, encoding, encoding_errors, dialect, on_bad_lines, delim_whitespace, low_memory, memory_map, float_precision, storage_options, dtype_backend)\u001b[0m\n\u001b[1;32m   1024\u001b[0m     \u001b[0mkwds\u001b[0m\u001b[0;34m.\u001b[0m\u001b[0mupdate\u001b[0m\u001b[0;34m(\u001b[0m\u001b[0mkwds_defaults\u001b[0m\u001b[0;34m)\u001b[0m\u001b[0;34m\u001b[0m\u001b[0;34m\u001b[0m\u001b[0m\n\u001b[1;32m   1025\u001b[0m \u001b[0;34m\u001b[0m\u001b[0m\n\u001b[0;32m-> 1026\u001b[0;31m     \u001b[0;32mreturn\u001b[0m \u001b[0m_read\u001b[0m\u001b[0;34m(\u001b[0m\u001b[0mfilepath_or_buffer\u001b[0m\u001b[0;34m,\u001b[0m \u001b[0mkwds\u001b[0m\u001b[0;34m)\u001b[0m\u001b[0;34m\u001b[0m\u001b[0;34m\u001b[0m\u001b[0m\n\u001b[0m\u001b[1;32m   1027\u001b[0m \u001b[0;34m\u001b[0m\u001b[0m\n\u001b[1;32m   1028\u001b[0m \u001b[0;34m\u001b[0m\u001b[0m\n",
            "\u001b[0;32m/usr/local/lib/python3.11/dist-packages/pandas/io/parsers/readers.py\u001b[0m in \u001b[0;36m_read\u001b[0;34m(filepath_or_buffer, kwds)\u001b[0m\n\u001b[1;32m    618\u001b[0m \u001b[0;34m\u001b[0m\u001b[0m\n\u001b[1;32m    619\u001b[0m     \u001b[0;31m# Create the parser.\u001b[0m\u001b[0;34m\u001b[0m\u001b[0;34m\u001b[0m\u001b[0m\n\u001b[0;32m--> 620\u001b[0;31m     \u001b[0mparser\u001b[0m \u001b[0;34m=\u001b[0m \u001b[0mTextFileReader\u001b[0m\u001b[0;34m(\u001b[0m\u001b[0mfilepath_or_buffer\u001b[0m\u001b[0;34m,\u001b[0m \u001b[0;34m**\u001b[0m\u001b[0mkwds\u001b[0m\u001b[0;34m)\u001b[0m\u001b[0;34m\u001b[0m\u001b[0;34m\u001b[0m\u001b[0m\n\u001b[0m\u001b[1;32m    621\u001b[0m \u001b[0;34m\u001b[0m\u001b[0m\n\u001b[1;32m    622\u001b[0m     \u001b[0;32mif\u001b[0m \u001b[0mchunksize\u001b[0m \u001b[0;32mor\u001b[0m \u001b[0miterator\u001b[0m\u001b[0;34m:\u001b[0m\u001b[0;34m\u001b[0m\u001b[0;34m\u001b[0m\u001b[0m\n",
            "\u001b[0;32m/usr/local/lib/python3.11/dist-packages/pandas/io/parsers/readers.py\u001b[0m in \u001b[0;36m__init__\u001b[0;34m(self, f, engine, **kwds)\u001b[0m\n\u001b[1;32m   1618\u001b[0m \u001b[0;34m\u001b[0m\u001b[0m\n\u001b[1;32m   1619\u001b[0m         \u001b[0mself\u001b[0m\u001b[0;34m.\u001b[0m\u001b[0mhandles\u001b[0m\u001b[0;34m:\u001b[0m \u001b[0mIOHandles\u001b[0m \u001b[0;34m|\u001b[0m \u001b[0;32mNone\u001b[0m \u001b[0;34m=\u001b[0m \u001b[0;32mNone\u001b[0m\u001b[0;34m\u001b[0m\u001b[0;34m\u001b[0m\u001b[0m\n\u001b[0;32m-> 1620\u001b[0;31m         \u001b[0mself\u001b[0m\u001b[0;34m.\u001b[0m\u001b[0m_engine\u001b[0m \u001b[0;34m=\u001b[0m \u001b[0mself\u001b[0m\u001b[0;34m.\u001b[0m\u001b[0m_make_engine\u001b[0m\u001b[0;34m(\u001b[0m\u001b[0mf\u001b[0m\u001b[0;34m,\u001b[0m \u001b[0mself\u001b[0m\u001b[0;34m.\u001b[0m\u001b[0mengine\u001b[0m\u001b[0;34m)\u001b[0m\u001b[0;34m\u001b[0m\u001b[0;34m\u001b[0m\u001b[0m\n\u001b[0m\u001b[1;32m   1621\u001b[0m \u001b[0;34m\u001b[0m\u001b[0m\n\u001b[1;32m   1622\u001b[0m     \u001b[0;32mdef\u001b[0m \u001b[0mclose\u001b[0m\u001b[0;34m(\u001b[0m\u001b[0mself\u001b[0m\u001b[0;34m)\u001b[0m \u001b[0;34m->\u001b[0m \u001b[0;32mNone\u001b[0m\u001b[0;34m:\u001b[0m\u001b[0;34m\u001b[0m\u001b[0;34m\u001b[0m\u001b[0m\n",
            "\u001b[0;32m/usr/local/lib/python3.11/dist-packages/pandas/io/parsers/readers.py\u001b[0m in \u001b[0;36m_make_engine\u001b[0;34m(self, f, engine)\u001b[0m\n\u001b[1;32m   1878\u001b[0m                 \u001b[0;32mif\u001b[0m \u001b[0;34m\"b\"\u001b[0m \u001b[0;32mnot\u001b[0m \u001b[0;32min\u001b[0m \u001b[0mmode\u001b[0m\u001b[0;34m:\u001b[0m\u001b[0;34m\u001b[0m\u001b[0;34m\u001b[0m\u001b[0m\n\u001b[1;32m   1879\u001b[0m                     \u001b[0mmode\u001b[0m \u001b[0;34m+=\u001b[0m \u001b[0;34m\"b\"\u001b[0m\u001b[0;34m\u001b[0m\u001b[0;34m\u001b[0m\u001b[0m\n\u001b[0;32m-> 1880\u001b[0;31m             self.handles = get_handle(\n\u001b[0m\u001b[1;32m   1881\u001b[0m                 \u001b[0mf\u001b[0m\u001b[0;34m,\u001b[0m\u001b[0;34m\u001b[0m\u001b[0;34m\u001b[0m\u001b[0m\n\u001b[1;32m   1882\u001b[0m                 \u001b[0mmode\u001b[0m\u001b[0;34m,\u001b[0m\u001b[0;34m\u001b[0m\u001b[0;34m\u001b[0m\u001b[0m\n",
            "\u001b[0;32m/usr/local/lib/python3.11/dist-packages/pandas/io/common.py\u001b[0m in \u001b[0;36mget_handle\u001b[0;34m(path_or_buf, mode, encoding, compression, memory_map, is_text, errors, storage_options)\u001b[0m\n\u001b[1;32m    871\u001b[0m         \u001b[0;32mif\u001b[0m \u001b[0mioargs\u001b[0m\u001b[0;34m.\u001b[0m\u001b[0mencoding\u001b[0m \u001b[0;32mand\u001b[0m \u001b[0;34m\"b\"\u001b[0m \u001b[0;32mnot\u001b[0m \u001b[0;32min\u001b[0m \u001b[0mioargs\u001b[0m\u001b[0;34m.\u001b[0m\u001b[0mmode\u001b[0m\u001b[0;34m:\u001b[0m\u001b[0;34m\u001b[0m\u001b[0;34m\u001b[0m\u001b[0m\n\u001b[1;32m    872\u001b[0m             \u001b[0;31m# Encoding\u001b[0m\u001b[0;34m\u001b[0m\u001b[0;34m\u001b[0m\u001b[0m\n\u001b[0;32m--> 873\u001b[0;31m             handle = open(\n\u001b[0m\u001b[1;32m    874\u001b[0m                 \u001b[0mhandle\u001b[0m\u001b[0;34m,\u001b[0m\u001b[0;34m\u001b[0m\u001b[0;34m\u001b[0m\u001b[0m\n\u001b[1;32m    875\u001b[0m                 \u001b[0mioargs\u001b[0m\u001b[0;34m.\u001b[0m\u001b[0mmode\u001b[0m\u001b[0;34m,\u001b[0m\u001b[0;34m\u001b[0m\u001b[0;34m\u001b[0m\u001b[0m\n",
            "\u001b[0;31mFileNotFoundError\u001b[0m: [Errno 2] No such file or directory: 'X_single_test_data.csv'"
          ]
        }
      ]
    },
    {
      "cell_type": "code",
      "source": [
        "import pandas as pd\n",
        "import matplotlib.pyplot as plt\n",
        "import numpy as np #import numpy for percentage calculation\n",
        "\n",
        "# Get feature importance scores as a dictionary\n",
        "importance = model.get_booster().get_score(importance_type='weight')\n",
        "\n",
        "# Convert to a DataFrame for easier plotting and sorting\n",
        "importance_df = pd.DataFrame({\n",
        "    'Feature': list(importance.keys()),\n",
        "    'Importance': list(importance.values())\n",
        "})\n",
        "\n",
        "# Exclude 'year' and 'month'\n",
        "importance_df = importance_df[~importance_df['Feature'].isin(['year', 'month'])]\n",
        "\n",
        "# Group flat types and sum importance\n",
        "flat_type_features = [col for col in importance_df['Feature'] if 'flat_type_' in col]\n",
        "flat_type_importance = importance_df.loc[importance_df['Feature'].isin(flat_type_features), 'Importance'].sum()\n",
        "importance_df = importance_df[~importance_df['Feature'].isin(flat_type_features)]  # Remove individual flat type features\n",
        "importance_df = pd.concat([importance_df, pd.DataFrame({'Feature': ['flat_type'], 'Importance': [flat_type_importance]})] , ignore_index=True)\n",
        "\n",
        "# Group street names and sum importance\n",
        "street_name_features = [col for col in importance_df['Feature'] if 'street_name_' in col]\n",
        "street_name_importance = importance_df.loc[importance_df['Feature'].isin(street_name_features), 'Importance'].sum()\n",
        "importance_df = importance_df[~importance_df['Feature'].isin(street_name_features)]  # Remove individual street name features\n",
        "importance_df = pd.concat([importance_df, pd.DataFrame({'Feature': ['street_name'], 'Importance': [street_name_importance]})] , ignore_index=True)\n",
        "\n",
        "# Combine flat_age and lease_commence_date into flat_age\n",
        "age_features = ['flat_age', 'lease_commence_date']\n",
        "combined_age_importance = importance_df.loc[importance_df['Feature'].isin(age_features), 'Importance'].sum()\n",
        "importance_df = importance_df[~importance_df['Feature'].isin(age_features)] # Remove individual age features\n",
        "importance_df = pd.concat([importance_df, pd.DataFrame({'Feature': ['flat_age'], 'Importance': [combined_age_importance]})] , ignore_index=True)\n",
        "\n",
        "\n",
        "# Calculate percentage importance\n",
        "importance_df['Importance'] = (importance_df['Importance'] / importance_df['Importance'].sum()) * 100\n",
        "\n",
        "# Sort by importance\n",
        "importance_df = importance_df.sort_values(by='Importance', ascending=False)\n",
        "\n",
        "# Plot top features with percentages\n",
        "top_n = 5\n",
        "plt.figure(figsize=(10, 8))\n",
        "bars = plt.barh(importance_df['Feature'][:top_n][::-1], importance_df['Importance'][:top_n][::-1])\n",
        "\n",
        "# Add percentages next to bars\n",
        "for bar in bars:\n",
        "    width = bar.get_width()\n",
        "    plt.text(width, bar.get_y() + bar.get_height()/2, f'{width:.2f}%', ha='left', va='center')\n",
        "\n",
        "plt.xlabel('Importance Score (%)')\n",
        "plt.title(f'Top {top_n} Feature Importances')\n",
        "plt.tight_layout()\n",
        "plt.show()"
      ],
      "metadata": {
        "id": "kUpWnuYIgBT-",
        "colab": {
          "base_uri": "https://localhost:8080/",
          "height": 807
        },
        "outputId": "96c16fdb-a071-4f17-edd1-ac71bf3b1539"
      },
      "execution_count": 27,
      "outputs": [
        {
          "output_type": "display_data",
          "data": {
            "text/plain": [
              "<Figure size 1000x800 with 1 Axes>"
            ],
            "image/png": "[encoded data removed]"
          },
          "metadata": {}
        }
      ]
    }
  ]
}